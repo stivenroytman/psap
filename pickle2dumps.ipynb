{
 "cells": [
  {
   "cell_type": "code",
   "execution_count": 2,
   "metadata": {},
   "outputs": [],
   "source": [
    "from pandas import read_pickle, DataFrame\n",
    "from glob import glob"
   ]
  },
  {
   "cell_type": "code",
   "execution_count": 3,
   "metadata": {},
   "outputs": [],
   "source": [
    "# For now, I will make the 3 trial assumption. Later, I should implement a way to accomodate more flexible design.\n",
    "trials = ['1', '2', '3']"
   ]
  },
  {
   "cell_type": "code",
   "execution_count": 5,
   "metadata": {},
   "outputs": [],
   "source": [
    "pickles = glob('*.pickle')\n",
    "for pickle in pickles:\n",
    "    pickle_dict = read_pickle(pickle)\n",
    "    for trial in trials:\n",
    "        DataFrame(pickle_dict[trial]['dumps']).to_csv('dumps_trial' + trial + '_' + pickle.split('.')[0] + '.csv')"
   ]
  },
  {
   "cell_type": "code",
   "execution_count": null,
   "metadata": {},
   "outputs": [],
   "source": []
  },
  {
   "cell_type": "code",
   "execution_count": null,
   "metadata": {},
   "outputs": [],
   "source": []
  }
 ],
 "metadata": {
  "kernelspec": {
   "display_name": "Python 3.8.3 64-bit ('envv': venv)",
   "language": "python",
   "name": "python38364bitenvvvenv39ed978f4b644675a4a56dacd061171b"
  },
  "language_info": {
   "codemirror_mode": {
    "name": "ipython",
    "version": 3
   },
   "file_extension": ".py",
   "mimetype": "text/x-python",
   "name": "python",
   "nbconvert_exporter": "python",
   "pygments_lexer": "ipython3",
   "version": "3.8.3-final"
  }
 },
 "nbformat": 4,
 "nbformat_minor": 4
}