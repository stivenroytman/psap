{
 "metadata": {
  "language_info": {
   "codemirror_mode": {
    "name": "ipython",
    "version": 3
   },
   "file_extension": ".py",
   "mimetype": "text/x-python",
   "name": "python",
   "nbconvert_exporter": "python",
   "pygments_lexer": "ipython3",
   "version": "3.8.3-final"
  },
  "orig_nbformat": 2,
  "kernelspec": {
   "name": "python38364bitenvvvenvcae85c519d7a4c9c84b99fa1cb8aa069",
   "display_name": "Python 3.8.3 64-bit ('envv': venv)"
  }
 },
 "nbformat": 4,
 "nbformat_minor": 2,
 "cells": [
  {
   "cell_type": "code",
   "execution_count": 1,
   "metadata": {},
   "outputs": [],
   "source": [
    "def setup_trial(n):\n",
    "    trial = list()\n",
    "    [trial.append(0) for participant in range(n)]\n",
    "    return trial\n",
    "\n",
    "def assign_pictures(trial):\n",
    "    for participant in range(len(trial)):\n",
    "        if (participant + 3) in range(len(trial)):\n",
    "            guy = participant\n",
    "        else:\n",
    "            guy = participant - len(trial)\n",
    "        trial[guy+1] += 1\n",
    "        trial[guy+2] += 1\n",
    "        trial[guy+3] += 1\n",
    "    return trial"
   ]
  },
  {
   "cell_type": "code",
   "execution_count": 18,
   "metadata": {},
   "outputs": [],
   "source": [
    "from PIL import Image\n",
    "img = Image.open('opp_images/3.jpg')\n",
    "new_img = img.resize((200, 200))\n",
    "new_img.save(\"new3.jpeg\", \"JPEG\", optimize=True)"
   ]
  },
  {
   "cell_type": "code",
   "execution_count": 3,
   "metadata": {},
   "outputs": [],
   "source": [
    "from fix_images import *"
   ]
  },
  {
   "cell_type": "code",
   "execution_count": 5,
   "metadata": {},
   "outputs": [],
   "source": [
    "fix_images('opp_images')"
   ]
  },
  {
   "cell_type": "code",
   "execution_count": null,
   "metadata": {},
   "outputs": [],
   "source": []
  }
 ]
}